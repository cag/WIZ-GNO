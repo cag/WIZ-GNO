{
 "cells": [
  {
   "cell_type": "markdown",
   "metadata": {},
   "source": [
    "# Preamble"
   ]
  },
  {
   "cell_type": "code",
   "execution_count": 15,
   "metadata": {},
   "outputs": [],
   "source": [
    "import numpy as np\n",
    "import bqplot.pyplot as plt\n",
    "from bqplot import *\n",
    "import random "
   ]
  },
  {
   "cell_type": "code",
   "execution_count": 9,
   "metadata": {},
   "outputs": [],
   "source": [
    "def make_plot(x, y, title, x_label, y_labels, y_sides=('left', 'right'), y_colors=CATEGORY10, y_grid_lines=('solid', 'dashed')):\n",
    "    x_sc = LinearScale()\n",
    "    y_scs = [LinearScale() for _ in y]\n",
    "\n",
    "    ax_x = Axis(label=x_label, label_offset='4em', scale=x_sc)\n",
    "    ax_ys = [Axis(label=label, label_offset='4em', scale=y_sc,\n",
    "                  side=side,\n",
    "                  color=color,\n",
    "                  grid_lines=grid_lines)\n",
    "             for y_sc, label, side, color, grid_lines in zip(y_scs, y_labels, y_sides, y_colors, y_grid_lines)]\n",
    "\n",
    "    lines = [Lines(labels=[label],\n",
    "                   x=x,\n",
    "                   y=y_data,\n",
    "                   scales={'x': x_sc, 'y': y_sc},\n",
    "                   colors=[color])\n",
    "             for y_sc, y_data, label, color in zip(y_scs, y, y_labels, y_colors)]\n",
    "\n",
    "    plt.figure(title=title, axes=[ax_x, *ax_ys], marks=lines,\n",
    "               fig_margin={'top': 60, 'bottom': 60, 'left': 70, 'right': 70})\n",
    "    plt.show()"
   ]
  },
  {
   "cell_type": "markdown",
   "metadata": {},
   "source": [
    "# Stakers\n",
    "\n",
    "In this simulation, stakers claim WIZ from their staked GNO every day and choose to lock all of their GNO with 50/50 odds. The lock period is 30 days, which gives the supply graph a rough periodicity of around 31 days (given the locking all of GNO with 50/50 odds and the adding up of all the roughly sawtooth graphs of individual WIZ holdings). All the stakers are given equal GNO at the start."
   ]
  },
  {
   "cell_type": "code",
   "execution_count": 10,
   "metadata": {
    "scrolled": false
   },
   "outputs": [
    {
     "data": {
      "application/vnd.jupyter.widget-view+json": {
       "model_id": "d547f71d603e4b829c7f8c44728d91fd",
       "version_major": 2,
       "version_minor": 0
      },
      "text/html": [
       "<p>Failed to display Jupyter Widget of type <code>VBox</code>.</p>\n",
       "<p>\n",
       "  If you're reading this message in the Jupyter Notebook or JupyterLab Notebook, it may mean\n",
       "  that the widgets JavaScript is still loading. If this message persists, it\n",
       "  likely means that the widgets JavaScript library is either not installed or\n",
       "  not enabled. See the <a href=\"https://ipywidgets.readthedocs.io/en/stable/user_install.html\">Jupyter\n",
       "  Widgets Documentation</a> for setup instructions.\n",
       "</p>\n",
       "<p>\n",
       "  If you're reading this message in another frontend (for example, a static\n",
       "  rendering on GitHub or <a href=\"https://nbviewer.jupyter.org/\">NBViewer</a>),\n",
       "  it may mean that your frontend doesn't currently support widgets.\n",
       "</p>\n"
      ],
      "text/plain": [
       "VBox(children=(Figure(axes=[Axis(label='Time (days)', label_offset='4em', scale=LinearScale()), Axis(color='#1f77b4', label='Fees in WIZ', label_offset='4em', scale=LinearScale(), side='left'), Axis(color='#ff7f0e', grid_lines='dashed', label='Fees in ETH', label_offset='4em', scale=LinearScale(), side='right')], fig_margin={'top': 60, 'left': 70, 'bottom': 60, 'right': 70}, layout=Layout(min_width='125px'), marks=[Lines(colors=['#1f77b4'], interactions={'hover': 'tooltip'}, labels=['Fees in WIZ'], scales={'y': LinearScale(), 'x': LinearScale()}, scales_metadata={'color': {'dimension': 'color'}, 'y': {'dimension': 'y', 'orientation': 'vertical'}, 'x': {'dimension': 'x', 'orientation': 'horizontal'}}, tooltip_style={'opacity': 0.9}, x=array([   0,    1,    2, ...,  998,  999, 1000]), y=array([ 7000.        ,  7000.73220256,  7003.96004305, ...,  6940.23620015,\n",
       "        6936.16589842,  6938.82301558])), Lines(colors=['#ff7f0e'], interactions={'hover': 'tooltip'}, labels=['Fees in ETH'], scales={'y': LinearScale(), 'x': LinearScale()}, scales_metadata={'color': {'dimension': 'color'}, 'y': {'dimension': 'y', 'orientation': 'vertical'}, 'x': {'dimension': 'x', 'orientation': 'horizontal'}}, tooltip_style={'opacity': 0.9}, x=array([   0,    1,    2, ...,  998,  999, 1000]), y=array([ 3000.        ,  3001.39320406,  2994.0441595 , ...,  3168.06524214,\n",
       "        3170.22320269,  3170.24979965]))], scale_x=LinearScale(allow_padding=False, max=1.0, min=0.0), scale_y=LinearScale(allow_padding=False, max=1.0, min=0.0), title='Simulation: Paid fees in WIZ/ETH given random seed 0'), Toolbar(figure=Figure(axes=[Axis(label='Time (days)', label_offset='4em', scale=LinearScale()), Axis(color='#1f77b4', label='Fees in WIZ', label_offset='4em', scale=LinearScale(), side='left'), Axis(color='#ff7f0e', grid_lines='dashed', label='Fees in ETH', label_offset='4em', scale=LinearScale(), side='right')], fig_margin={'top': 60, 'left': 70, 'bottom': 60, 'right': 70}, layout=Layout(min_width='125px'), marks=[Lines(colors=['#1f77b4'], interactions={'hover': 'tooltip'}, labels=['Fees in WIZ'], scales={'y': LinearScale(), 'x': LinearScale()}, scales_metadata={'color': {'dimension': 'color'}, 'y': {'dimension': 'y', 'orientation': 'vertical'}, 'x': {'dimension': 'x', 'orientation': 'horizontal'}}, tooltip_style={'opacity': 0.9}, x=array([   0,    1,    2, ...,  998,  999, 1000]), y=array([ 7000.        ,  7000.73220256,  7003.96004305, ...,  6940.23620015,\n",
       "        6936.16589842,  6938.82301558])), Lines(colors=['#ff7f0e'], interactions={'hover': 'tooltip'}, labels=['Fees in ETH'], scales={'y': LinearScale(), 'x': LinearScale()}, scales_metadata={'color': {'dimension': 'color'}, 'y': {'dimension': 'y', 'orientation': 'vertical'}, 'x': {'dimension': 'x', 'orientation': 'horizontal'}}, tooltip_style={'opacity': 0.9}, x=array([   0,    1,    2, ...,  998,  999, 1000]), y=array([ 3000.        ,  3001.39320406,  2994.0441595 , ...,  3168.06524214,\n",
       "        3170.22320269,  3170.24979965]))], scale_x=LinearScale(allow_padding=False, max=1.0, min=0.0), scale_y=LinearScale(allow_padding=False, max=1.0, min=0.0), title='Simulation: Paid fees in WIZ/ETH given random seed 0'))))"
      ]
     },
     "metadata": {},
     "output_type": "display_data"
    },
    {
     "data": {
      "application/vnd.jupyter.widget-view+json": {
       "model_id": "248bc7e23c5849828579796a3c549bc8",
       "version_major": 2,
       "version_minor": 0
      },
      "text/html": [
       "<p>Failed to display Jupyter Widget of type <code>VBox</code>.</p>\n",
       "<p>\n",
       "  If you're reading this message in the Jupyter Notebook or JupyterLab Notebook, it may mean\n",
       "  that the widgets JavaScript is still loading. If this message persists, it\n",
       "  likely means that the widgets JavaScript library is either not installed or\n",
       "  not enabled. See the <a href=\"https://ipywidgets.readthedocs.io/en/stable/user_install.html\">Jupyter\n",
       "  Widgets Documentation</a> for setup instructions.\n",
       "</p>\n",
       "<p>\n",
       "  If you're reading this message in another frontend (for example, a static\n",
       "  rendering on GitHub or <a href=\"https://nbviewer.jupyter.org/\">NBViewer</a>),\n",
       "  it may mean that your frontend doesn't currently support widgets.\n",
       "</p>\n"
      ],
      "text/plain": [
       "VBox(children=(Figure(axes=[Axis(label='Time (days)', label_offset='4em', scale=LinearScale()), Axis(color='#2ca02c', label='Supply of WIZ', label_offset='4em', scale=LinearScale(), side='left'), Axis(color='#d62728', grid_lines='dashed', label='ETH/WIZ ratio of paid fees', label_offset='4em', scale=LinearScale(), side='right')], fig_margin={'top': 60, 'left': 70, 'bottom': 60, 'right': 70}, layout=Layout(min_width='125px'), marks=[Lines(colors=['#2ca02c'], interactions={'hover': 'tooltip'}, labels=['Supply of WIZ'], scales={'y': LinearScale(), 'x': LinearScale()}, scales_metadata={'color': {'dimension': 'color'}, 'y': {'dimension': 'y', 'orientation': 'vertical'}, 'x': {'dimension': 'x', 'orientation': 'horizontal'}}, tooltip_style={'opacity': 0.9}, x=array([   0,    1,    2, ...,  998,  999, 1000]), y=array([ 44175.8502175 ,  44688.15373707,  44908.57800452, ...,\n",
       "        48710.28695234,  48678.55595183,  48447.35042188])), Lines(colors=['#d62728'], interactions={'hover': 'tooltip'}, labels=['ETH/WIZ ratio of paid fees'], scales={'y': LinearScale(), 'x': LinearScale()}, scales_metadata={'color': {'dimension': 'color'}, 'y': {'dimension': 'y', 'orientation': 'vertical'}, 'x': {'dimension': 'x', 'orientation': 'horizontal'}}, tooltip_style={'opacity': 0.9}, x=array([   0,    1,    2, ...,  998,  999, 1000]), y=array([ 0.42857143,  0.42872561,  0.42747876, ...,  0.45647801,\n",
       "        0.457057  ,  0.45688581]))], scale_x=LinearScale(allow_padding=False, max=1.0, min=0.0), scale_y=LinearScale(allow_padding=False, max=1.0, min=0.0), title='Simulation: Supply reaction to ETH/WIZ ratio of paid fees'), Toolbar(figure=Figure(axes=[Axis(label='Time (days)', label_offset='4em', scale=LinearScale()), Axis(color='#2ca02c', label='Supply of WIZ', label_offset='4em', scale=LinearScale(), side='left'), Axis(color='#d62728', grid_lines='dashed', label='ETH/WIZ ratio of paid fees', label_offset='4em', scale=LinearScale(), side='right')], fig_margin={'top': 60, 'left': 70, 'bottom': 60, 'right': 70}, layout=Layout(min_width='125px'), marks=[Lines(colors=['#2ca02c'], interactions={'hover': 'tooltip'}, labels=['Supply of WIZ'], scales={'y': LinearScale(), 'x': LinearScale()}, scales_metadata={'color': {'dimension': 'color'}, 'y': {'dimension': 'y', 'orientation': 'vertical'}, 'x': {'dimension': 'x', 'orientation': 'horizontal'}}, tooltip_style={'opacity': 0.9}, x=array([   0,    1,    2, ...,  998,  999, 1000]), y=array([ 44175.8502175 ,  44688.15373707,  44908.57800452, ...,\n",
       "        48710.28695234,  48678.55595183,  48447.35042188])), Lines(colors=['#d62728'], interactions={'hover': 'tooltip'}, labels=['ETH/WIZ ratio of paid fees'], scales={'y': LinearScale(), 'x': LinearScale()}, scales_metadata={'color': {'dimension': 'color'}, 'y': {'dimension': 'y', 'orientation': 'vertical'}, 'x': {'dimension': 'x', 'orientation': 'horizontal'}}, tooltip_style={'opacity': 0.9}, x=array([   0,    1,    2, ...,  998,  999, 1000]), y=array([ 0.42857143,  0.42872561,  0.42747876, ...,  0.45647801,\n",
       "        0.457057  ,  0.45688581]))], scale_x=LinearScale(allow_padding=False, max=1.0, min=0.0), scale_y=LinearScale(allow_padding=False, max=1.0, min=0.0), title='Simulation: Supply reaction to ETH/WIZ ratio of paid fees'))))"
      ]
     },
     "metadata": {},
     "output_type": "display_data"
    }
   ],
   "source": [
    "class Staker(object):\n",
    "    def __init__(self, GNO):\n",
    "        self.GNO = GNO\n",
    "        self.isLocked = False\n",
    "        self.LockedInDays = 0\n",
    "        self.LockingDate = 0\n",
    "        self.WIZ = 0\n",
    "        self.lastWIZWithdraw = 0\n",
    "        self.IssueRate = 0\n",
    "\n",
    "    def withdrawWIZ(self,today):\n",
    "        global SupplyWIZ\n",
    "        if today>self.lastWIZWithdraw and self.isLocked:\n",
    "            SupplyWIZ[today]+=(today-self.lastWIZWithdraw)*self.IssueRate\n",
    "            self.lastWIZWithdraw = today\n",
    "        \n",
    "    def checkUnlock(self, today):\n",
    "        global LockedGNO\n",
    "        self.withdrawWIZ(today)\n",
    "        if today>self.LockingDate+self.LockedInDays and self.isLocked:\n",
    "            LockedGNO[today]-=self.GNO\n",
    "            self.LockedInDays=0\n",
    "            self.isLocked= False\n",
    "        \n",
    "    def lockGNO(self, today):\n",
    "        global LockedGNOAtStart\n",
    "        global LockedGNO\n",
    "        global SupplyWIZ\n",
    "        self.checkUnlock(today)\n",
    "        if not self.isLocked:\n",
    "            ir=max(0,((CurrentFeesInWIZ[today]+CurrentFeesInETH[today])*12*min(1,CurrentFeesInETH[today]/CurrentFeesInWIZ[today])-SupplyWIZ[today])/30)\n",
    "            r=np.random.rand()\n",
    "            if r>0.5:# and ir>(CurrentFeesInWIZ[today])/30: \n",
    "                LockedGNOAtStart=max(0,LockedGNOAtStart-self.GNO)\n",
    "                SupplyWIZ[today]+=ir*self.GNO/(self.GNO+LockedGNO[today]+LockedGNOAtStart)*30*1/3\n",
    "                self.IssueRate=ir*self.GNO/(self.GNO+LockedGNO[today]+LockedGNOAtStart)*2/3\n",
    "                self.LockedInDays=30\n",
    "                self.lastWIZWithdraw=today\n",
    "                self.LockingDate=today\n",
    "                self.isLocked=True\n",
    "                LockedGNO[today]+=self.GNO\n",
    "\n",
    "SEED = 0\n",
    "np.random.seed(SEED)\n",
    "NrParticipants = 100\n",
    "SupplyGNO = 1000000000\n",
    "Participants = [Staker(SupplyGNO/NrParticipants) for _ in range(NrParticipants)]\n",
    "NR_OF_DAYS = 1000\n",
    "\n",
    "LockedGNO = [0]\n",
    "LockedGNOAtStart = SupplyGNO;\n",
    "CurrentFeesInWIZ = np.maximum(0, np.concatenate([[7000], 7000 + np.cumsum(15 * (np.random.rand(NR_OF_DAYS) - 0.5))]))\n",
    "CurrentFeesInETH = np.maximum(0, np.concatenate([[3000], 3000 + np.cumsum(15 * (np.random.rand(NR_OF_DAYS) - 0.5))]))\n",
    "CurrentFeesCollected = CurrentFeesInWIZ + CurrentFeesInETH\n",
    "SupplyWIZ=[CurrentFeesCollected[0]*43/10]            \n",
    "    \n",
    "            \n",
    "for CurrentDay in range(NR_OF_DAYS):\n",
    "    for p in Participants:\n",
    "        p.withdrawWIZ(CurrentDay)\n",
    "        p.lockGNO(CurrentDay)\n",
    "    SupplyWIZ.append(SupplyWIZ[CurrentDay]-CurrentFeesInWIZ[CurrentDay]/30)\n",
    "    if SupplyWIZ[CurrentDay+1]<0:\n",
    "        SupplyWIZ[CurrentDay+1]=0\n",
    "    LockedGNO.append(LockedGNO[CurrentDay])\n",
    "\n",
    "make_plot(range(NR_OF_DAYS+1), [CurrentFeesInWIZ, CurrentFeesInETH],\n",
    "          title='Simulation: Paid fees in WIZ/ETH given random seed '+str(SEED),\n",
    "          x_label='Time (days)', y_labels=['Fees in WIZ', 'Fees in ETH'])\n",
    "\n",
    "make_plot(range(NR_OF_DAYS+1), [SupplyWIZ, CurrentFeesInETH / CurrentFeesInWIZ],\n",
    "          title='Simulation: Supply reaction to ETH/WIZ ratio of paid fees',\n",
    "          x_label='Time (days)', y_labels=['Supply of WIZ', 'ETH/WIZ ratio of paid fees'],\n",
    "          y_colors=CATEGORY10[2:])"
   ]
  },
  {
   "cell_type": "code",
   "execution_count": 25,
   "metadata": {},
   "outputs": [
    {
     "data": {
      "application/vnd.jupyter.widget-view+json": {
       "model_id": "6c071d949a5d4e9a87a689a48be0a4f1",
       "version_major": 2,
       "version_minor": 0
      },
      "text/html": [
       "<p>Failed to display Jupyter Widget of type <code>VBox</code>.</p>\n",
       "<p>\n",
       "  If you're reading this message in the Jupyter Notebook or JupyterLab Notebook, it may mean\n",
       "  that the widgets JavaScript is still loading. If this message persists, it\n",
       "  likely means that the widgets JavaScript library is either not installed or\n",
       "  not enabled. See the <a href=\"https://ipywidgets.readthedocs.io/en/stable/user_install.html\">Jupyter\n",
       "  Widgets Documentation</a> for setup instructions.\n",
       "</p>\n",
       "<p>\n",
       "  If you're reading this message in another frontend (for example, a static\n",
       "  rendering on GitHub or <a href=\"https://nbviewer.jupyter.org/\">NBViewer</a>),\n",
       "  it may mean that your frontend doesn't currently support widgets.\n",
       "</p>\n"
      ],
      "text/plain": [
       "VBox(children=(Figure(axes=[Axis(label='Time (days)', label_offset='4em', scale=LinearScale()), Axis(color='#1f77b4', label='Fees in WIZ', label_offset='4em', scale=LinearScale(), side='left'), Axis(color='#ff7f0e', grid_lines='dashed', label='Fees in ETH', label_offset='4em', scale=LinearScale(), side='right')], fig_margin={'top': 60, 'left': 70, 'bottom': 60, 'right': 70}, layout=Layout(min_width='125px'), marks=[Lines(colors=['#1f77b4'], interactions={'hover': 'tooltip'}, labels=['Fees in WIZ'], scales={'y': LinearScale(), 'x': LinearScale()}, scales_metadata={'color': {'dimension': 'color'}, 'y': {'dimension': 'y', 'orientation': 'vertical'}, 'x': {'dimension': 'x', 'orientation': 'horizontal'}}, tooltip_style={'opacity': 0.9}, x=array([   0,    1,    2, ...,  998,  999, 1000]), y=array([ 7000.        ,  6998.48617135,  6989.61041455, ...,  6739.09296363,\n",
       "        6733.49804412,  6735.40325256])), Lines(colors=['#ff7f0e'], interactions={'hover': 'tooltip'}, labels=['Fees in ETH'], scales={'y': LinearScale(), 'x': LinearScale()}, scales_metadata={'color': {'dimension': 'color'}, 'y': {'dimension': 'y', 'orientation': 'vertical'}, 'x': {'dimension': 'x', 'orientation': 'horizontal'}}, tooltip_style={'opacity': 0.9}, x=array([   0,    1,    2, ...,  998,  999, 1000]), y=array([ 3000.        ,  2998.53621648,  2983.62996757, ...,  2666.65427778,\n",
       "        2672.97316503,  2678.41997146]))], scale_x=LinearScale(allow_padding=False, max=1.0, min=0.0), scale_y=LinearScale(allow_padding=False, max=1.0, min=0.0), title='Simulation: Paid fees in WIZ/ETH given random seed 0'), Toolbar(figure=Figure(axes=[Axis(label='Time (days)', label_offset='4em', scale=LinearScale()), Axis(color='#1f77b4', label='Fees in WIZ', label_offset='4em', scale=LinearScale(), side='left'), Axis(color='#ff7f0e', grid_lines='dashed', label='Fees in ETH', label_offset='4em', scale=LinearScale(), side='right')], fig_margin={'top': 60, 'left': 70, 'bottom': 60, 'right': 70}, layout=Layout(min_width='125px'), marks=[Lines(colors=['#1f77b4'], interactions={'hover': 'tooltip'}, labels=['Fees in WIZ'], scales={'y': LinearScale(), 'x': LinearScale()}, scales_metadata={'color': {'dimension': 'color'}, 'y': {'dimension': 'y', 'orientation': 'vertical'}, 'x': {'dimension': 'x', 'orientation': 'horizontal'}}, tooltip_style={'opacity': 0.9}, x=array([   0,    1,    2, ...,  998,  999, 1000]), y=array([ 7000.        ,  6998.48617135,  6989.61041455, ...,  6739.09296363,\n",
       "        6733.49804412,  6735.40325256])), Lines(colors=['#ff7f0e'], interactions={'hover': 'tooltip'}, labels=['Fees in ETH'], scales={'y': LinearScale(), 'x': LinearScale()}, scales_metadata={'color': {'dimension': 'color'}, 'y': {'dimension': 'y', 'orientation': 'vertical'}, 'x': {'dimension': 'x', 'orientation': 'horizontal'}}, tooltip_style={'opacity': 0.9}, x=array([   0,    1,    2, ...,  998,  999, 1000]), y=array([ 3000.        ,  2998.53621648,  2983.62996757, ...,  2666.65427778,\n",
       "        2672.97316503,  2678.41997146]))], scale_x=LinearScale(allow_padding=False, max=1.0, min=0.0), scale_y=LinearScale(allow_padding=False, max=1.0, min=0.0), title='Simulation: Paid fees in WIZ/ETH given random seed 0'))))"
      ]
     },
     "metadata": {},
     "output_type": "display_data"
    },
    {
     "data": {
      "application/vnd.jupyter.widget-view+json": {
       "model_id": "6b788f41b1ce49fcb1b79c0003203718",
       "version_major": 2,
       "version_minor": 0
      },
      "text/html": [
       "<p>Failed to display Jupyter Widget of type <code>VBox</code>.</p>\n",
       "<p>\n",
       "  If you're reading this message in the Jupyter Notebook or JupyterLab Notebook, it may mean\n",
       "  that the widgets JavaScript is still loading. If this message persists, it\n",
       "  likely means that the widgets JavaScript library is either not installed or\n",
       "  not enabled. See the <a href=\"https://ipywidgets.readthedocs.io/en/stable/user_install.html\">Jupyter\n",
       "  Widgets Documentation</a> for setup instructions.\n",
       "</p>\n",
       "<p>\n",
       "  If you're reading this message in another frontend (for example, a static\n",
       "  rendering on GitHub or <a href=\"https://nbviewer.jupyter.org/\">NBViewer</a>),\n",
       "  it may mean that your frontend doesn't currently support widgets.\n",
       "</p>\n"
      ],
      "text/plain": [
       "VBox(children=(Figure(axes=[Axis(label='Time (days)', label_offset='4em', scale=LinearScale()), Axis(color='#2ca02c', label='Supply of WIZ', label_offset='4em', scale=LinearScale(), side='left'), Axis(color='#d62728', grid_lines='dashed', label='ETH/WIZ ratio of paid fees', label_offset='4em', scale=LinearScale(), side='right')], fig_margin={'top': 60, 'left': 70, 'bottom': 60, 'right': 70}, layout=Layout(min_width='125px'), marks=[Lines(colors=['#2ca02c'], interactions={'hover': 'tooltip'}, labels=['Supply of WIZ'], scales={'y': LinearScale(), 'x': LinearScale()}, scales_metadata={'color': {'dimension': 'color'}, 'y': {'dimension': 'y', 'orientation': 'vertical'}, 'x': {'dimension': 'x', 'orientation': 'horizontal'}}, tooltip_style={'opacity': 0.9}, x=array([   0,    1,    2, ...,  998,  999, 1000]), y=array([  7058925.0549718 ,   8908373.4253137 ,   9709713.01075448, ...,\n",
       "        20981128.41404704,  20974389.32108341,  20967655.82303929])), Lines(colors=['#d62728'], interactions={'hover': 'tooltip'}, labels=['ETH/WIZ ratio of paid fees'], scales={'y': LinearScale(), 'x': LinearScale()}, scales_metadata={'color': {'dimension': 'color'}, 'y': {'dimension': 'y', 'orientation': 'vertical'}, 'x': {'dimension': 'x', 'orientation': 'horizontal'}}, tooltip_style={'opacity': 0.9}, x=array([   0,    1,    2, ...,  998,  999, 1000]), y=array([ 0.42857143,  0.42845497,  0.42686642, ...,  0.39569929,\n",
       "        0.3969665 ,  0.3976629 ]))], scale_x=LinearScale(allow_padding=False, max=1.0, min=0.0), scale_y=LinearScale(allow_padding=False, max=1.0, min=0.0), title='Simulation: Supply reaction to ETH/WIZ ratio of paid fees'), Toolbar(figure=Figure(axes=[Axis(label='Time (days)', label_offset='4em', scale=LinearScale()), Axis(color='#2ca02c', label='Supply of WIZ', label_offset='4em', scale=LinearScale(), side='left'), Axis(color='#d62728', grid_lines='dashed', label='ETH/WIZ ratio of paid fees', label_offset='4em', scale=LinearScale(), side='right')], fig_margin={'top': 60, 'left': 70, 'bottom': 60, 'right': 70}, layout=Layout(min_width='125px'), marks=[Lines(colors=['#2ca02c'], interactions={'hover': 'tooltip'}, labels=['Supply of WIZ'], scales={'y': LinearScale(), 'x': LinearScale()}, scales_metadata={'color': {'dimension': 'color'}, 'y': {'dimension': 'y', 'orientation': 'vertical'}, 'x': {'dimension': 'x', 'orientation': 'horizontal'}}, tooltip_style={'opacity': 0.9}, x=array([   0,    1,    2, ...,  998,  999, 1000]), y=array([  7058925.0549718 ,   8908373.4253137 ,   9709713.01075448, ...,\n",
       "        20981128.41404704,  20974389.32108341,  20967655.82303929])), Lines(colors=['#d62728'], interactions={'hover': 'tooltip'}, labels=['ETH/WIZ ratio of paid fees'], scales={'y': LinearScale(), 'x': LinearScale()}, scales_metadata={'color': {'dimension': 'color'}, 'y': {'dimension': 'y', 'orientation': 'vertical'}, 'x': {'dimension': 'x', 'orientation': 'horizontal'}}, tooltip_style={'opacity': 0.9}, x=array([   0,    1,    2, ...,  998,  999, 1000]), y=array([ 0.42857143,  0.42845497,  0.42686642, ...,  0.39569929,\n",
       "        0.3969665 ,  0.3976629 ]))], scale_x=LinearScale(allow_padding=False, max=1.0, min=0.0), scale_y=LinearScale(allow_padding=False, max=1.0, min=0.0), title='Simulation: Supply reaction to ETH/WIZ ratio of paid fees'))))"
      ]
     },
     "metadata": {},
     "output_type": "display_data"
    }
   ],
   "source": [
    "class Staker(object):\n",
    "    def __init__(self, GNO):\n",
    "        self.GNO = GNO\n",
    "        self.isLocked = False\n",
    "        self.LockedInDays = 0\n",
    "        self.LockingDate = 0\n",
    "        self.WIZ = 0\n",
    "        self.lastWIZWithdraw = 0\n",
    "        self.IssueRate = 0\n",
    "\n",
    "    def withdrawWIZ(self,today):\n",
    "        global SupplyWIZ\n",
    "        if today>self.lastWIZWithdraw and self.isLocked:\n",
    "            SupplyWIZ[today]+=(today-self.lastWIZWithdraw)*self.IssueRate\n",
    "            self.lastWIZWithdraw = today\n",
    "        \n",
    "    def checkUnlock(self, today):\n",
    "        global LockedGNO\n",
    "        self.withdrawWIZ(today)\n",
    "        if today>self.LockingDate+self.LockedInDays and self.isLocked:\n",
    "            LockedGNO[today]-=self.GNO\n",
    "            self.LockedInDays=0\n",
    "            self.isLocked= False\n",
    "        \n",
    "    def lockGNO(self, today):\n",
    "        global LockedGNOAtStart\n",
    "        global LockedGNO\n",
    "        global SupplyWIZ\n",
    "        self.checkUnlock(today)\n",
    "        if not self.isLocked:\n",
    "            if SumOfETHConsumed30Days[today]/SumOfWIZConsumed30Days[today]<1/9:\n",
    "                ir=max(0,((SumOfWIZConsumed30Days[today]+SumOfETHConsumed30Days[today])*180*1/9-SupplyWIZ[today])/30)\n",
    "            else:\n",
    "                ir=max(0,((SumOfWIZConsumed30Days[today]+SumOfETHConsumed30Days[today])*180*min(1/2,SumOfETHConsumed30Days[today]/SumOfWIZConsumed30Days[today])-SupplyWIZ[today])/30)\n",
    "                    \n",
    "            r=np.random.rand()\n",
    "            if r>0.5:# and ir>(CurrentFeesInWIZ[today])/30: \n",
    "                LockedGNOAtStart=max(0,LockedGNOAtStart-self.GNO)\n",
    "                SupplyWIZ[today]+=ir*self.GNO/(self.GNO+LockedGNO[today]+LockedGNOAtStart)*30*1/3\n",
    "                self.IssueRate=ir*self.GNO/(self.GNO+LockedGNO[today]+LockedGNOAtStart)*2/3\n",
    "                self.LockedInDays=30\n",
    "                self.lastWIZWithdraw=today\n",
    "                self.LockingDate=today\n",
    "                self.isLocked=True\n",
    "                LockedGNO[today]+=self.GNO\n",
    "\n",
    "def getNewFeesCollected(CurrentDay):\n",
    "        global SumOfWIZConsumed30Days\n",
    "        global SumOfETHConsumed30Days\n",
    "        \n",
    "        CurrentFeesInWIZ.append(CurrentFeesInWIZ[CurrentDay]+((random.random()-1/2)*30))\n",
    "        #negative supply not allowed\n",
    "        if SupplyWIZ[CurrentDay]-CurrentFeesInWIZ[CurrentDay+1]<0:\n",
    "            CurrentFeesInWIZ[CurrentDay+1]=SupplyWIZ[CurrentDay]\n",
    "        #check that the sum is substracted by initialized days in case we are in the first 30 days    \n",
    "        if CurrentDay<=30:\n",
    "            SumOfWIZConsumed30Days.append(SumOfWIZConsumed30Days[CurrentDay]-CurrentFeesInWIZ[0]+CurrentFeesInWIZ[CurrentDay+1])\n",
    "        else:\n",
    "            SumOfWIZConsumed30Days.append(SumOfWIZConsumed30Days[CurrentDay]-CurrentFeesInWIZ[CurrentDay-30]+CurrentFeesInWIZ[CurrentDay+1])\n",
    "        \n",
    "        CurrentFeesInETH.append(CurrentFeesInETH[CurrentDay]+((random.random()-1/2)*30))\n",
    "        if CurrentDay<=30:\n",
    "            SumOfETHConsumed30Days.append(SumOfETHConsumed30Days[CurrentDay]-CurrentFeesInETH[0]+CurrentFeesInETH[CurrentDay+1])\n",
    "        else:\n",
    "            SumOfETHConsumed30Days.append(SumOfETHConsumed30Days[CurrentDay]-CurrentFeesInETH[CurrentDay-30]+CurrentFeesInETH[CurrentDay+1])\n",
    "     \n",
    " \n",
    "\n",
    "                \n",
    "SEED = 0\n",
    "np.random.seed(SEED)\n",
    "NrParticipants = 100\n",
    "SupplyGNO = 1000000000\n",
    "Participants = [Staker(SupplyGNO/NrParticipants) for _ in range(NrParticipants)]\n",
    "NR_OF_DAYS = 1000\n",
    "\n",
    "LockedGNO = [0]\n",
    "LockedGNOAtStart = SupplyGNO;\n",
    "CurrentFeesInWIZ = [7000]\n",
    "CurrentFeesInETH = [3000]\n",
    "CurrentFeesCollected = CurrentFeesInWIZ + CurrentFeesInETH\n",
    "SupplyWIZ=[CurrentFeesCollected[0]*30*20]            \n",
    "SumOfWIZConsumed30Days=[CurrentFeesInWIZ[0]*30]\n",
    "SumOfETHConsumed30Days=[CurrentFeesInETH[0]*30]\n",
    "           \n",
    "for CurrentDay in range(NR_OF_DAYS):\n",
    "    for p in Participants:\n",
    "        p.withdrawWIZ(CurrentDay)\n",
    "        p.lockGNO(CurrentDay)\n",
    "    getNewFeesCollected(CurrentDay)\n",
    "    CurrentFeesCollected.append(CurrentFeesInWIZ[CurrentDay+1]+CurrentFeesInETH[CurrentDay+1])\n",
    "    SupplyWIZ.append(SupplyWIZ[CurrentDay]-CurrentFeesInWIZ[CurrentDay])\n",
    "    LockedGNO.append(LockedGNO[CurrentDay])\n",
    "\n",
    "make_plot(range(NR_OF_DAYS+1), [CurrentFeesInWIZ, CurrentFeesInETH],\n",
    "          title='Simulation: Paid fees in WIZ/ETH given random seed '+str(SEED),\n",
    "          x_label='Time (days)', y_labels=['Fees in WIZ', 'Fees in ETH'])\n",
    "\n",
    "make_plot(range(NR_OF_DAYS+1), [SupplyWIZ, np.array(CurrentFeesInETH, dtype=np.float)/np.array(CurrentFeesInWIZ, dtype=np.float)],\n",
    "          title='Simulation: Supply reaction to ETH/WIZ ratio of paid fees',\n",
    "          x_label='Time (days)', y_labels=['Supply of WIZ', 'ETH/WIZ ratio of paid fees'],\n",
    "          y_colors=CATEGORY10[2:])"
   ]
  },
  {
   "cell_type": "code",
   "execution_count": 4,
   "metadata": {},
   "outputs": [
    {
     "data": {
      "application/vnd.jupyter.widget-view+json": {
       "model_id": "1b5b36f09ac74e5a9ff9faafa6e2ad37",
       "version_major": 2,
       "version_minor": 0
      },
      "text/plain": [
       "A Jupyter Widget"
      ]
     },
     "metadata": {},
     "output_type": "display_data"
    },
    {
     "data": {
      "application/vnd.jupyter.widget-view+json": {
       "model_id": "648fed3cdca442069827bf938ab6d7f7",
       "version_major": 2,
       "version_minor": 0
      },
      "text/plain": [
       "A Jupyter Widget"
      ]
     },
     "metadata": {},
     "output_type": "display_data"
    }
   ],
   "source": [
    "SEED = 0\n",
    "np.random.seed(SEED)\n",
    "NrParticipants = 100\n",
    "SupplyGNO = 1000000000\n",
    "Participants = [Staker(SupplyGNO/NrParticipants) for _ in range(NrParticipants)]\n",
    "NR_OF_DAYS = 1000\n",
    "\n",
    "LockedGNO = [0]\n",
    "LockedGNOAtStart = SupplyGNO;\n",
    "CurrentFeesInWIZ = np.maximum(0, np.concatenate([[7000], 7000 + np.cumsum(15 * (np.random.rand(NR_OF_DAYS) - 0.5))])) * \\\n",
    "    np.power(.999, np.linspace(0, NR_OF_DAYS, NR_OF_DAYS + 1))\n",
    "CurrentFeesInETH = np.maximum(0, np.concatenate([[3000], 3000 + np.cumsum(15 * (np.random.rand(NR_OF_DAYS) - 0.5))])) * \\\n",
    "    np.power(.999, np.linspace(0, NR_OF_DAYS, NR_OF_DAYS + 1))\n",
    "CurrentFeesCollected = CurrentFeesInWIZ + CurrentFeesInETH\n",
    "SupplyWIZ=[CurrentFeesCollected[0]*43/10]            \n",
    "    \n",
    "            \n",
    "for CurrentDay in range(NR_OF_DAYS):\n",
    "    for p in Participants:\n",
    "        p.withdrawWIZ(CurrentDay)\n",
    "        p.lockGNO(CurrentDay)\n",
    "    SupplyWIZ.append(SupplyWIZ[CurrentDay]-CurrentFeesInWIZ[CurrentDay]/30)\n",
    "    if SupplyWIZ[CurrentDay+1]<0:\n",
    "        SupplyWIZ[CurrentDay+1]=0\n",
    "    LockedGNO.append(LockedGNO[CurrentDay])\n",
    "\n",
    "make_plot(range(NR_OF_DAYS+1), [CurrentFeesInWIZ, CurrentFeesInETH],\n",
    "          title='Simulation: Declining paid fees in WIZ/ETH with random seed '+str(SEED),\n",
    "          x_label='Time (days)', y_labels=['Fees in WIZ', 'Fees in ETH'])\n",
    "\n",
    "make_plot(range(NR_OF_DAYS+1), [SupplyWIZ, CurrentFeesInETH / CurrentFeesInWIZ],\n",
    "          title='Simulation: Supply reaction to ETH/WIZ ratio of declining paid fees',\n",
    "          x_label='Time (days)', y_labels=['Supply of WIZ', 'ETH/WIZ ratio of paid fees'],\n",
    "          y_colors=CATEGORY10[2:])"
   ]
  },
  {
   "cell_type": "code",
   "execution_count": 5,
   "metadata": {},
   "outputs": [
    {
     "data": {
      "application/vnd.jupyter.widget-view+json": {
       "model_id": "9df4ded08d024e8ba58ba7e5b9ec3c45",
       "version_major": 2,
       "version_minor": 0
      },
      "text/plain": [
       "A Jupyter Widget"
      ]
     },
     "metadata": {},
     "output_type": "display_data"
    },
    {
     "data": {
      "application/vnd.jupyter.widget-view+json": {
       "model_id": "2d1d7218e02d4cff80a40756612e4c3b",
       "version_major": 2,
       "version_minor": 0
      },
      "text/plain": [
       "A Jupyter Widget"
      ]
     },
     "metadata": {},
     "output_type": "display_data"
    }
   ],
   "source": [
    "SEED = 0\n",
    "np.random.seed(SEED)\n",
    "NrParticipants = 100\n",
    "SupplyGNO = 1000000000\n",
    "Participants = [Staker(SupplyGNO/NrParticipants) for _ in range(NrParticipants)]\n",
    "NR_OF_DAYS = 1000\n",
    "\n",
    "LockedGNO = [0]\n",
    "LockedGNOAtStart = SupplyGNO;\n",
    "CurrentFeesInWIZ = np.maximum(0, np.concatenate([[7000], 7000 + np.cumsum(15 * (np.random.rand(NR_OF_DAYS) - 0.5))])) * \\\n",
    "    np.power(.995, np.linspace(0, NR_OF_DAYS, NR_OF_DAYS + 1))\n",
    "CurrentFeesInETH = np.maximum(0, np.concatenate([[3000], 3000 + np.cumsum(15 * (np.random.rand(NR_OF_DAYS) - 0.5))]))\n",
    "CurrentFeesCollected = CurrentFeesInWIZ + CurrentFeesInETH\n",
    "SupplyWIZ=[CurrentFeesCollected[0]*43/10]            \n",
    "    \n",
    "            \n",
    "for CurrentDay in range(NR_OF_DAYS):\n",
    "    for p in Participants:\n",
    "        p.withdrawWIZ(CurrentDay)\n",
    "        p.lockGNO(CurrentDay)\n",
    "    SupplyWIZ.append(SupplyWIZ[CurrentDay]-CurrentFeesInWIZ[CurrentDay]/30)\n",
    "    if SupplyWIZ[CurrentDay+1]<0:\n",
    "        SupplyWIZ[CurrentDay+1]=0\n",
    "    LockedGNO.append(LockedGNO[CurrentDay])\n",
    "\n",
    "make_plot(range(NR_OF_DAYS+1), [CurrentFeesInWIZ, CurrentFeesInETH],\n",
    "          title='Simulation: Declining paid fees in WIZ/ETH with random seed '+str(SEED),\n",
    "          x_label='Time (days)', y_labels=['Fees in WIZ', 'Fees in ETH'])\n",
    "\n",
    "make_plot(range(NR_OF_DAYS+1), [SupplyWIZ, CurrentFeesInETH / CurrentFeesInWIZ],\n",
    "          title='Simulation: Supply reaction to ETH/WIZ ratio of declining paid fees',\n",
    "          x_label='Time (days)', y_labels=['Supply of WIZ', 'ETH/WIZ ratio of paid fees'],\n",
    "          y_colors=CATEGORY10[2:])"
   ]
  },
  {
   "cell_type": "code",
   "execution_count": null,
   "metadata": {
    "collapsed": true
   },
   "outputs": [],
   "source": []
  }
 ],
 "metadata": {
  "kernelspec": {
   "display_name": "Python 3",
   "language": "python",
   "name": "python3"
  },
  "language_info": {
   "codemirror_mode": {
    "name": "ipython",
    "version": 3
   },
   "file_extension": ".py",
   "mimetype": "text/x-python",
   "name": "python",
   "nbconvert_exporter": "python",
   "pygments_lexer": "ipython3",
   "version": "3.5.2"
  }
 },
 "nbformat": 4,
 "nbformat_minor": 2
}
