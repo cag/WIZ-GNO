{
 "cells": [
  {
   "cell_type": "markdown",
   "metadata": {},
   "source": [
    "# Preamble"
   ]
  },
  {
   "cell_type": "code",
   "execution_count": 1,
   "metadata": {},
   "outputs": [
    {
     "ename": "ImportError",
     "evalue": "No module named 'bqplot'",
     "output_type": "error",
     "traceback": [
      "\u001b[0;31m---------------------------------------------------------------------------\u001b[0m",
      "\u001b[0;31mImportError\u001b[0m                               Traceback (most recent call last)",
      "\u001b[0;32m<ipython-input-1-d2605e146f98>\u001b[0m in \u001b[0;36m<module>\u001b[0;34m()\u001b[0m\n\u001b[1;32m      1\u001b[0m \u001b[0;32mimport\u001b[0m \u001b[0mnumpy\u001b[0m \u001b[0;32mas\u001b[0m \u001b[0mnp\u001b[0m\u001b[0;34m\u001b[0m\u001b[0m\n\u001b[0;32m----> 2\u001b[0;31m \u001b[0;32mimport\u001b[0m \u001b[0mbqplot\u001b[0m\u001b[0;34m.\u001b[0m\u001b[0mpyplot\u001b[0m \u001b[0;32mas\u001b[0m \u001b[0mplt\u001b[0m\u001b[0;34m\u001b[0m\u001b[0m\n\u001b[0m\u001b[1;32m      3\u001b[0m \u001b[0;32mfrom\u001b[0m \u001b[0mbqplot\u001b[0m \u001b[0;32mimport\u001b[0m \u001b[0;34m*\u001b[0m\u001b[0;34m\u001b[0m\u001b[0m\n",
      "\u001b[0;31mImportError\u001b[0m: No module named 'bqplot'"
     ]
    }
   ],
   "source": [
    "import numpy as np\n",
    "import bqplot.pyplot as plt\n",
    "from bqplot import *"
   ]
  },
  {
   "cell_type": "code",
   "execution_count": 2,
   "metadata": {
    "collapsed": true
   },
   "outputs": [],
   "source": [
    "def make_plot(x, y, title, x_label, y_labels, y_sides=('left', 'right'), y_colors=CATEGORY10, y_grid_lines=('solid', 'dashed')):\n",
    "    x_sc = LinearScale()\n",
    "    y_scs = [LinearScale() for _ in y]\n",
    "\n",
    "    ax_x = Axis(label=x_label, label_offset='4em', scale=x_sc)\n",
    "    ax_ys = [Axis(label=label, label_offset='4em', scale=y_sc,\n",
    "                  side=side,\n",
    "                  color=color,\n",
    "                  grid_lines=grid_lines)\n",
    "             for y_sc, label, side, color, grid_lines in zip(y_scs, y_labels, y_sides, y_colors, y_grid_lines)]\n",
    "\n",
    "    lines = [Lines(labels=[label],\n",
    "                   x=x,\n",
    "                   y=y_data,\n",
    "                   scales={'x': x_sc, 'y': y_sc},\n",
    "                   colors=[color])\n",
    "             for y_sc, y_data, label, color in zip(y_scs, y, y_labels, y_colors)]\n",
    "\n",
    "    plt.figure(title=title, axes=[ax_x, *ax_ys], marks=lines,\n",
    "               fig_margin={'top': 60, 'bottom': 60, 'left': 70, 'right': 70})\n",
    "    plt.show()"
   ]
  },
  {
   "cell_type": "markdown",
   "metadata": {},
   "source": [
    "# Stakers\n",
    "\n",
    "In this simulation, stakers claim WIZ from their staked GNO every day and choose to lock all of their GNO with 50/50 odds. The lock period is 30 days, which gives the supply graph a rough periodicity of around 31 days (given the locking all of GNO with 50/50 odds and the adding up of all the roughly sawtooth graphs of individual WIZ holdings). All the stakers are given equal GNO at the start."
   ]
  },
  {
   "cell_type": "code",
   "execution_count": 3,
   "metadata": {
    "scrolled": false
   },
   "outputs": [
    {
     "data": {
      "application/vnd.jupyter.widget-view+json": {
       "model_id": "942dcc0d77234843aff144c2515fb405",
       "version_major": 2,
       "version_minor": 0
      },
      "text/plain": [
       "A Jupyter Widget"
      ]
     },
     "metadata": {},
     "output_type": "display_data"
    },
    {
     "data": {
      "application/vnd.jupyter.widget-view+json": {
       "model_id": "7ffe1065e73b4c6eaba0af51700c293c",
       "version_major": 2,
       "version_minor": 0
      },
      "text/plain": [
       "A Jupyter Widget"
      ]
     },
     "metadata": {},
     "output_type": "display_data"
    }
   ],
   "source": [
    "class Staker(object):\n",
    "    def __init__(self, GNO):\n",
    "        self.GNO = GNO\n",
    "        self.isLocked = False\n",
    "        self.LockedInDays = 0\n",
    "        self.LockingDate = 0\n",
    "        self.WIZ = 0\n",
    "        self.lastWIZWithdraw = 0\n",
    "        self.IssueRate = 0\n",
    "\n",
    "    def withdrawWIZ(self,today):\n",
    "        global SupplyWIZ\n",
    "        if today>self.lastWIZWithdraw and self.isLocked:\n",
    "            SupplyWIZ[today]+=(today-self.lastWIZWithdraw)*self.IssueRate\n",
    "            self.lastWIZWithdraw = today\n",
    "        \n",
    "    def checkUnlock(self, today):\n",
    "        global LockedGNO\n",
    "        self.withdrawWIZ(today)\n",
    "        if today>self.LockingDate+self.LockedInDays and self.isLocked:\n",
    "            LockedGNO[today]-=self.GNO\n",
    "            self.LockedInDays=0\n",
    "            self.isLocked= False\n",
    "        \n",
    "    def lockGNO(self, today):\n",
    "        global LockedGNOAtStart\n",
    "        global LockedGNO\n",
    "        global SupplyWIZ\n",
    "        self.checkUnlock(today)\n",
    "        if not self.isLocked:\n",
    "            ir=max(0,((CurrentFeesInWIZ[today]+CurrentFeesInETH[today])*12*min(1,CurrentFeesInETH[today]/CurrentFeesInWIZ[today])-SupplyWIZ[today])/30)\n",
    "            r=np.random.rand()\n",
    "            if r>0.5:# and ir>(CurrentFeesInWIZ[today])/30: \n",
    "                LockedGNOAtStart=max(0,LockedGNOAtStart-self.GNO)\n",
    "                SupplyWIZ[today]+=ir*self.GNO/(self.GNO+LockedGNO[today]+LockedGNOAtStart)*30*1/3\n",
    "                self.IssueRate=ir*self.GNO/(self.GNO+LockedGNO[today]+LockedGNOAtStart)*2/3\n",
    "                self.LockedInDays=30\n",
    "                self.lastWIZWithdraw=today\n",
    "                self.LockingDate=today\n",
    "                self.isLocked=True\n",
    "                LockedGNO[today]+=self.GNO\n",
    "\n",
    "SEED = 0\n",
    "np.random.seed(SEED)\n",
    "NrParticipants = 100\n",
    "SupplyGNO = 1000000000\n",
    "Participants = [Staker(SupplyGNO/NrParticipants) for _ in range(NrParticipants)]\n",
    "NR_OF_DAYS = 1000\n",
    "\n",
    "LockedGNO = [0]\n",
    "LockedGNOAtStart = SupplyGNO;\n",
    "CurrentFeesInWIZ = np.maximum(0, np.concatenate([[7000], 7000 + np.cumsum(15 * (np.random.rand(NR_OF_DAYS) - 0.5))]))\n",
    "CurrentFeesInETH = np.maximum(0, np.concatenate([[3000], 3000 + np.cumsum(15 * (np.random.rand(NR_OF_DAYS) - 0.5))]))\n",
    "CurrentFeesCollected = CurrentFeesInWIZ + CurrentFeesInETH\n",
    "SupplyWIZ=[CurrentFeesCollected[0]*43/10]            \n",
    "    \n",
    "            \n",
    "for CurrentDay in range(NR_OF_DAYS):\n",
    "    for p in Participants:\n",
    "        p.withdrawWIZ(CurrentDay)\n",
    "        p.lockGNO(CurrentDay)\n",
    "    SupplyWIZ.append(SupplyWIZ[CurrentDay]-CurrentFeesInWIZ[CurrentDay]/30)\n",
    "    if SupplyWIZ[CurrentDay+1]<0:\n",
    "        SupplyWIZ[CurrentDay+1]=0\n",
    "    LockedGNO.append(LockedGNO[CurrentDay])\n",
    "\n",
    "make_plot(range(NR_OF_DAYS+1), [CurrentFeesInWIZ, CurrentFeesInETH],\n",
    "          title='Simulation: Paid fees in WIZ/ETH given random seed '+str(SEED),\n",
    "          x_label='Time (days)', y_labels=['Fees in WIZ', 'Fees in ETH'])\n",
    "\n",
    "make_plot(range(NR_OF_DAYS+1), [SupplyWIZ, CurrentFeesInETH / CurrentFeesInWIZ],\n",
    "          title='Simulation: Supply reaction to ETH/WIZ ratio of paid fees',\n",
    "          x_label='Time (days)', y_labels=['Supply of WIZ', 'ETH/WIZ ratio of paid fees'],\n",
    "          y_colors=CATEGORY10[2:])"
   ]
  },
  {
   "cell_type": "code",
   "execution_count": 4,
   "metadata": {},
   "outputs": [
    {
     "data": {
      "application/vnd.jupyter.widget-view+json": {
       "model_id": "1b5b36f09ac74e5a9ff9faafa6e2ad37",
       "version_major": 2,
       "version_minor": 0
      },
      "text/plain": [
       "A Jupyter Widget"
      ]
     },
     "metadata": {},
     "output_type": "display_data"
    },
    {
     "data": {
      "application/vnd.jupyter.widget-view+json": {
       "model_id": "648fed3cdca442069827bf938ab6d7f7",
       "version_major": 2,
       "version_minor": 0
      },
      "text/plain": [
       "A Jupyter Widget"
      ]
     },
     "metadata": {},
     "output_type": "display_data"
    }
   ],
   "source": [
    "SEED = 0\n",
    "np.random.seed(SEED)\n",
    "NrParticipants = 100\n",
    "SupplyGNO = 1000000000\n",
    "Participants = [Staker(SupplyGNO/NrParticipants) for _ in range(NrParticipants)]\n",
    "NR_OF_DAYS = 1000\n",
    "\n",
    "LockedGNO = [0]\n",
    "LockedGNOAtStart = SupplyGNO;\n",
    "CurrentFeesInWIZ = np.maximum(0, np.concatenate([[7000], 7000 + np.cumsum(15 * (np.random.rand(NR_OF_DAYS) - 0.5))])) * \\\n",
    "    np.power(.999, np.linspace(0, NR_OF_DAYS, NR_OF_DAYS + 1))\n",
    "CurrentFeesInETH = np.maximum(0, np.concatenate([[3000], 3000 + np.cumsum(15 * (np.random.rand(NR_OF_DAYS) - 0.5))])) * \\\n",
    "    np.power(.999, np.linspace(0, NR_OF_DAYS, NR_OF_DAYS + 1))\n",
    "CurrentFeesCollected = CurrentFeesInWIZ + CurrentFeesInETH\n",
    "SupplyWIZ=[CurrentFeesCollected[0]*43/10]            \n",
    "    \n",
    "            \n",
    "for CurrentDay in range(NR_OF_DAYS):\n",
    "    for p in Participants:\n",
    "        p.withdrawWIZ(CurrentDay)\n",
    "        p.lockGNO(CurrentDay)\n",
    "    SupplyWIZ.append(SupplyWIZ[CurrentDay]-CurrentFeesInWIZ[CurrentDay]/30)\n",
    "    if SupplyWIZ[CurrentDay+1]<0:\n",
    "        SupplyWIZ[CurrentDay+1]=0\n",
    "    LockedGNO.append(LockedGNO[CurrentDay])\n",
    "\n",
    "make_plot(range(NR_OF_DAYS+1), [CurrentFeesInWIZ, CurrentFeesInETH],\n",
    "          title='Simulation: Declining paid fees in WIZ/ETH with random seed '+str(SEED),\n",
    "          x_label='Time (days)', y_labels=['Fees in WIZ', 'Fees in ETH'])\n",
    "\n",
    "make_plot(range(NR_OF_DAYS+1), [SupplyWIZ, CurrentFeesInETH / CurrentFeesInWIZ],\n",
    "          title='Simulation: Supply reaction to ETH/WIZ ratio of declining paid fees',\n",
    "          x_label='Time (days)', y_labels=['Supply of WIZ', 'ETH/WIZ ratio of paid fees'],\n",
    "          y_colors=CATEGORY10[2:])"
   ]
  },
  {
   "cell_type": "code",
   "execution_count": 5,
   "metadata": {},
   "outputs": [
    {
     "data": {
      "application/vnd.jupyter.widget-view+json": {
       "model_id": "9df4ded08d024e8ba58ba7e5b9ec3c45",
       "version_major": 2,
       "version_minor": 0
      },
      "text/plain": [
       "A Jupyter Widget"
      ]
     },
     "metadata": {},
     "output_type": "display_data"
    },
    {
     "data": {
      "application/vnd.jupyter.widget-view+json": {
       "model_id": "2d1d7218e02d4cff80a40756612e4c3b",
       "version_major": 2,
       "version_minor": 0
      },
      "text/plain": [
       "A Jupyter Widget"
      ]
     },
     "metadata": {},
     "output_type": "display_data"
    }
   ],
   "source": [
    "SEED = 0\n",
    "np.random.seed(SEED)\n",
    "NrParticipants = 100\n",
    "SupplyGNO = 1000000000\n",
    "Participants = [Staker(SupplyGNO/NrParticipants) for _ in range(NrParticipants)]\n",
    "NR_OF_DAYS = 1000\n",
    "\n",
    "LockedGNO = [0]\n",
    "LockedGNOAtStart = SupplyGNO;\n",
    "CurrentFeesInWIZ = np.maximum(0, np.concatenate([[7000], 7000 + np.cumsum(15 * (np.random.rand(NR_OF_DAYS) - 0.5))])) * \\\n",
    "    np.power(.995, np.linspace(0, NR_OF_DAYS, NR_OF_DAYS + 1))\n",
    "CurrentFeesInETH = np.maximum(0, np.concatenate([[3000], 3000 + np.cumsum(15 * (np.random.rand(NR_OF_DAYS) - 0.5))]))\n",
    "CurrentFeesCollected = CurrentFeesInWIZ + CurrentFeesInETH\n",
    "SupplyWIZ=[CurrentFeesCollected[0]*43/10]            \n",
    "    \n",
    "            \n",
    "for CurrentDay in range(NR_OF_DAYS):\n",
    "    for p in Participants:\n",
    "        p.withdrawWIZ(CurrentDay)\n",
    "        p.lockGNO(CurrentDay)\n",
    "    SupplyWIZ.append(SupplyWIZ[CurrentDay]-CurrentFeesInWIZ[CurrentDay]/30)\n",
    "    if SupplyWIZ[CurrentDay+1]<0:\n",
    "        SupplyWIZ[CurrentDay+1]=0\n",
    "    LockedGNO.append(LockedGNO[CurrentDay])\n",
    "\n",
    "make_plot(range(NR_OF_DAYS+1), [CurrentFeesInWIZ, CurrentFeesInETH],\n",
    "          title='Simulation: Declining paid fees in WIZ/ETH with random seed '+str(SEED),\n",
    "          x_label='Time (days)', y_labels=['Fees in WIZ', 'Fees in ETH'])\n",
    "\n",
    "make_plot(range(NR_OF_DAYS+1), [SupplyWIZ, CurrentFeesInETH / CurrentFeesInWIZ],\n",
    "          title='Simulation: Supply reaction to ETH/WIZ ratio of declining paid fees',\n",
    "          x_label='Time (days)', y_labels=['Supply of WIZ', 'ETH/WIZ ratio of paid fees'],\n",
    "          y_colors=CATEGORY10[2:])"
   ]
  },
  {
   "cell_type": "code",
   "execution_count": null,
   "metadata": {
    "collapsed": true
   },
   "outputs": [],
   "source": []
  }
 ],
 "metadata": {
  "kernelspec": {
   "display_name": "Python 3",
   "language": "python",
   "name": "python3"
  },
  "language_info": {
   "codemirror_mode": {
    "name": "ipython",
    "version": 3
   },
   "file_extension": ".py",
   "mimetype": "text/x-python",
   "name": "python",
   "nbconvert_exporter": "python",
   "pygments_lexer": "ipython3",
   "version": "3.5.2"
  }
 },
 "nbformat": 4,
 "nbformat_minor": 2
}
